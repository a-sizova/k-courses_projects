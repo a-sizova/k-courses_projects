{
 "cells": [
  {
   "cell_type": "markdown",
   "metadata": {},
   "source": [
    "# Финальный проект. Вариант 2"
   ]
  },
  {
   "cell_type": "markdown",
   "metadata": {},
   "source": [
    "## Задание 1. A/B-тестирование"
   ]
  },
  {
   "cell_type": "markdown",
   "metadata": {},
   "source": [
    "В ходе тестирования одной гипотезы целевой группе была предложена новая механика оплаты услуг на сайте, у контрольной группы оставалась базовая механика. Необходимо проанализировать итоги эксперимента и сделать вывод, стоит ли запускать новую механику оплаты на всех пользователей."
   ]
  },
  {
   "cell_type": "markdown",
   "metadata": {},
   "source": [
    "Самой вероятной целью каких-либо изменений в продукте чаще всего является увеличение выручки. В нашем случае меняется механика оплаты услуг на сайте, т.е. мы предполагаем, что данные изменения могут способствовать увеличению выручки. \n",
    "Исходя из предоставленных данных, мы можем использовать для сравнения групп 3 метрики: **CR**(конверсия в покупку), **ARPU**(средний доход с активного пользователя) и **ARPPU**(средний доход с платящего пользователя). \n",
    "Если мы используем несколько метрик, то для каждой метрики у нас будут свои гипотезы.\n",
    "\n",
    "**В случае с CR**:\n",
    "- *Нулевая гипотеза H0:* Изменения ни к чему не приведут, конверсия останется прежней\n",
    "- *Альтернативная гипотеза H1:* Изменения приведут к повышению конверсии\n",
    "\n",
    "**В случае с ARPU**:\n",
    "- *Нулевая гипотеза H0:* Изменения ни к чему не приведут, ARPU останется прежним\n",
    "- *Альтернативная гипотеза H1:* Изменения приведут к повышению ARPU\n",
    "\n",
    "**В случае с ARPPU**:\n",
    "- *Нулевая гипотеза H0:* Изменения ни к чему не приведут, ARPPU останется прежним\n",
    "- *Альтернативная гипотеза H1:* Изменения приведут к повышению ARPPU\n",
    "\n",
    "Соответственно, решение о запуске новой механики оплаты может приниматься, исходя из результата анализа показателей, изначально выбранной для сравнения групп, метрики."
   ]
  },
  {
   "cell_type": "code",
   "execution_count": 1,
   "metadata": {},
   "outputs": [],
   "source": [
    "#Загружаем необходимые библиотеки\n",
    "import pandas as pd\n",
    "import numpy as np\n",
    "import matplotlib.pyplot as plt\n",
    "import seaborn as sns\n",
    "from scipy import stats\n",
    "from scipy.stats import chi2_contingency, norm\n",
    "from tqdm.auto import tqdm\n",
    "import decimal"
   ]
  },
  {
   "cell_type": "code",
   "execution_count": 2,
   "metadata": {},
   "outputs": [],
   "source": [
    "# # Загружаем данные\n",
    "# # Файл с информацией о принадлежности пользователя(А – контроль, B – целевая группа) \n",
    "# groups = pd.read_csv('https://getfile.dokpub.com/yandex/get/https://disk.yandex.ru/d/58Us0DWOzuWAjg', sep=';')\n",
    "# # # Дополнительный файл с пользователями, который мы получили спустя 2 дня после передачи данных\n",
    "# group_add = pd.read_csv('https://getfile.dokpub.com/yandex/get/https://disk.yandex.ru/d/3aARY-P9pfaksg')\n",
    "# # Файл с информацией о пользователях, которые зашли на платформу в дни проведения эксперимента\n",
    "# active_studs = pd.read_csv('https://getfile.dokpub.com/yandex/get/https://disk.yandex.ru/d/prbgU-rZpiXVYg')\n",
    "# # Файл с информацией об оплатах пользователей в дни проведения эксперимента\n",
    "# checks = pd.read_csv('https://getfile.dokpub.com/yandex/get/https://disk.yandex.ru/d/84hTmELphW2sqQ', sep=';')"
   ]
  },
  {
   "cell_type": "code",
   "execution_count": 3,
   "metadata": {},
   "outputs": [],
   "source": [
    "# Загружаем данные\n",
    "# Файл с информацией о принадлежности пользователя(А – контроль, B – целевая группа) \n",
    "groups = pd.read_csv('/mnt/HC_Volume_18315164/home-jupyter/jupyter-a-sizova-18/Проект_2_groups.csv', sep=';')\n",
    "# # Дополнительный файл с пользователями, который мы получили спустя 2 дня после передачи данных\n",
    "group_add = pd.read_csv('/mnt/HC_Volume_18315164/home-jupyter/jupyter-a-sizova-18/Проект_2_group_add.csv')\n",
    "# Файл с информацией о пользователях, которые зашли на платформу в дни проведения эксперимента\n",
    "active_studs = pd.read_csv('/mnt/HC_Volume_18315164/home-jupyter/jupyter-a-sizova-18/Проект_2_active_studs.csv')\n",
    "# Файл с информацией об оплатах пользователей в дни проведения эксперимента\n",
    "checks = pd.read_csv('/mnt/HC_Volume_18315164/home-jupyter/jupyter-a-sizova-18/Проект_2_checks.csv', sep=';')"
   ]
  },
  {
   "cell_type": "code",
   "execution_count": 4,
   "metadata": {},
   "outputs": [
    {
     "data": {
      "text/html": [
       "<div>\n",
       "<style scoped>\n",
       "    .dataframe tbody tr th:only-of-type {\n",
       "        vertical-align: middle;\n",
       "    }\n",
       "\n",
       "    .dataframe tbody tr th {\n",
       "        vertical-align: top;\n",
       "    }\n",
       "\n",
       "    .dataframe thead th {\n",
       "        text-align: right;\n",
       "    }\n",
       "</style>\n",
       "<table border=\"1\" class=\"dataframe\">\n",
       "  <thead>\n",
       "    <tr style=\"text-align: right;\">\n",
       "      <th></th>\n",
       "      <th>id</th>\n",
       "      <th>grp</th>\n",
       "    </tr>\n",
       "  </thead>\n",
       "  <tbody>\n",
       "    <tr>\n",
       "      <th>0</th>\n",
       "      <td>1489</td>\n",
       "      <td>B</td>\n",
       "    </tr>\n",
       "    <tr>\n",
       "      <th>1</th>\n",
       "      <td>1627</td>\n",
       "      <td>A</td>\n",
       "    </tr>\n",
       "  </tbody>\n",
       "</table>\n",
       "</div>"
      ],
      "text/plain": [
       "     id grp\n",
       "0  1489   B\n",
       "1  1627   A"
      ]
     },
     "execution_count": 4,
     "metadata": {},
     "output_type": "execute_result"
    }
   ],
   "source": [
    "# Просматриваем имеющиеся данные\n",
    "groups.head(2)"
   ]
  },
  {
   "cell_type": "code",
   "execution_count": 5,
   "metadata": {},
   "outputs": [
    {
     "data": {
      "text/html": [
       "<div>\n",
       "<style scoped>\n",
       "    .dataframe tbody tr th:only-of-type {\n",
       "        vertical-align: middle;\n",
       "    }\n",
       "\n",
       "    .dataframe tbody tr th {\n",
       "        vertical-align: top;\n",
       "    }\n",
       "\n",
       "    .dataframe thead th {\n",
       "        text-align: right;\n",
       "    }\n",
       "</style>\n",
       "<table border=\"1\" class=\"dataframe\">\n",
       "  <thead>\n",
       "    <tr style=\"text-align: right;\">\n",
       "      <th></th>\n",
       "      <th>id</th>\n",
       "      <th>grp</th>\n",
       "    </tr>\n",
       "  </thead>\n",
       "  <tbody>\n",
       "    <tr>\n",
       "      <th>0</th>\n",
       "      <td>5694584</td>\n",
       "      <td>B</td>\n",
       "    </tr>\n",
       "    <tr>\n",
       "      <th>1</th>\n",
       "      <td>5694830</td>\n",
       "      <td>B</td>\n",
       "    </tr>\n",
       "  </tbody>\n",
       "</table>\n",
       "</div>"
      ],
      "text/plain": [
       "        id grp\n",
       "0  5694584   B\n",
       "1  5694830   B"
      ]
     },
     "execution_count": 5,
     "metadata": {},
     "output_type": "execute_result"
    }
   ],
   "source": [
    "group_add.head(2)"
   ]
  },
  {
   "cell_type": "code",
   "execution_count": 6,
   "metadata": {},
   "outputs": [
    {
     "data": {
      "text/html": [
       "<div>\n",
       "<style scoped>\n",
       "    .dataframe tbody tr th:only-of-type {\n",
       "        vertical-align: middle;\n",
       "    }\n",
       "\n",
       "    .dataframe tbody tr th {\n",
       "        vertical-align: top;\n",
       "    }\n",
       "\n",
       "    .dataframe thead th {\n",
       "        text-align: right;\n",
       "    }\n",
       "</style>\n",
       "<table border=\"1\" class=\"dataframe\">\n",
       "  <thead>\n",
       "    <tr style=\"text-align: right;\">\n",
       "      <th></th>\n",
       "      <th>student_id</th>\n",
       "    </tr>\n",
       "  </thead>\n",
       "  <tbody>\n",
       "    <tr>\n",
       "      <th>0</th>\n",
       "      <td>581585</td>\n",
       "    </tr>\n",
       "    <tr>\n",
       "      <th>1</th>\n",
       "      <td>5723133</td>\n",
       "    </tr>\n",
       "  </tbody>\n",
       "</table>\n",
       "</div>"
      ],
      "text/plain": [
       "   student_id\n",
       "0      581585\n",
       "1     5723133"
      ]
     },
     "execution_count": 6,
     "metadata": {},
     "output_type": "execute_result"
    }
   ],
   "source": [
    "active_studs.head(2)"
   ]
  },
  {
   "cell_type": "code",
   "execution_count": 7,
   "metadata": {},
   "outputs": [
    {
     "data": {
      "text/html": [
       "<div>\n",
       "<style scoped>\n",
       "    .dataframe tbody tr th:only-of-type {\n",
       "        vertical-align: middle;\n",
       "    }\n",
       "\n",
       "    .dataframe tbody tr th {\n",
       "        vertical-align: top;\n",
       "    }\n",
       "\n",
       "    .dataframe thead th {\n",
       "        text-align: right;\n",
       "    }\n",
       "</style>\n",
       "<table border=\"1\" class=\"dataframe\">\n",
       "  <thead>\n",
       "    <tr style=\"text-align: right;\">\n",
       "      <th></th>\n",
       "      <th>student_id</th>\n",
       "      <th>rev</th>\n",
       "    </tr>\n",
       "  </thead>\n",
       "  <tbody>\n",
       "    <tr>\n",
       "      <th>0</th>\n",
       "      <td>1627</td>\n",
       "      <td>990.0</td>\n",
       "    </tr>\n",
       "    <tr>\n",
       "      <th>1</th>\n",
       "      <td>3185</td>\n",
       "      <td>690.0</td>\n",
       "    </tr>\n",
       "  </tbody>\n",
       "</table>\n",
       "</div>"
      ],
      "text/plain": [
       "   student_id    rev\n",
       "0        1627  990.0\n",
       "1        3185  690.0"
      ]
     },
     "execution_count": 7,
     "metadata": {},
     "output_type": "execute_result"
    }
   ],
   "source": [
    "checks.head(2)"
   ]
  },
  {
   "cell_type": "code",
   "execution_count": 8,
   "metadata": {},
   "outputs": [],
   "source": [
    "# Объединяем данные о пользователях и переименовываем колонку id для дальнейшего корректного объединения с остальными данными\n",
    "all_users = pd.concat([groups, group_add], ignore_index=True).rename(columns={'id':'student_id'}) "
   ]
  },
  {
   "cell_type": "code",
   "execution_count": 9,
   "metadata": {},
   "outputs": [
    {
     "data": {
      "text/html": [
       "<div>\n",
       "<style scoped>\n",
       "    .dataframe tbody tr th:only-of-type {\n",
       "        vertical-align: middle;\n",
       "    }\n",
       "\n",
       "    .dataframe tbody tr th {\n",
       "        vertical-align: top;\n",
       "    }\n",
       "\n",
       "    .dataframe thead th {\n",
       "        text-align: right;\n",
       "    }\n",
       "</style>\n",
       "<table border=\"1\" class=\"dataframe\">\n",
       "  <thead>\n",
       "    <tr style=\"text-align: right;\">\n",
       "      <th></th>\n",
       "      <th>student_id</th>\n",
       "      <th>grp</th>\n",
       "    </tr>\n",
       "  </thead>\n",
       "  <tbody>\n",
       "  </tbody>\n",
       "</table>\n",
       "</div>"
      ],
      "text/plain": [
       "Empty DataFrame\n",
       "Columns: [student_id, grp]\n",
       "Index: []"
      ]
     },
     "execution_count": 9,
     "metadata": {},
     "output_type": "execute_result"
    }
   ],
   "source": [
    "# Проверяем новый датафрейм на наличие дубликатов \n",
    "all_users.loc[all_users.duplicated()]"
   ]
  },
  {
   "cell_type": "code",
   "execution_count": 10,
   "metadata": {},
   "outputs": [
    {
     "data": {
      "text/html": [
       "<div>\n",
       "<style scoped>\n",
       "    .dataframe tbody tr th:only-of-type {\n",
       "        vertical-align: middle;\n",
       "    }\n",
       "\n",
       "    .dataframe tbody tr th {\n",
       "        vertical-align: top;\n",
       "    }\n",
       "\n",
       "    .dataframe thead th {\n",
       "        text-align: right;\n",
       "    }\n",
       "</style>\n",
       "<table border=\"1\" class=\"dataframe\">\n",
       "  <thead>\n",
       "    <tr style=\"text-align: right;\">\n",
       "      <th></th>\n",
       "      <th>student_id</th>\n",
       "      <th>grp</th>\n",
       "      <th>rev</th>\n",
       "    </tr>\n",
       "  </thead>\n",
       "  <tbody>\n",
       "    <tr>\n",
       "      <th>0</th>\n",
       "      <td>1627</td>\n",
       "      <td>A</td>\n",
       "      <td>990.0</td>\n",
       "    </tr>\n",
       "    <tr>\n",
       "      <th>1</th>\n",
       "      <td>2085</td>\n",
       "      <td>B</td>\n",
       "      <td>0.0</td>\n",
       "    </tr>\n",
       "    <tr>\n",
       "      <th>2</th>\n",
       "      <td>2215</td>\n",
       "      <td>B</td>\n",
       "      <td>0.0</td>\n",
       "    </tr>\n",
       "    <tr>\n",
       "      <th>3</th>\n",
       "      <td>3391</td>\n",
       "      <td>A</td>\n",
       "      <td>0.0</td>\n",
       "    </tr>\n",
       "    <tr>\n",
       "      <th>4</th>\n",
       "      <td>3401</td>\n",
       "      <td>B</td>\n",
       "      <td>0.0</td>\n",
       "    </tr>\n",
       "    <tr>\n",
       "      <th>...</th>\n",
       "      <td>...</td>\n",
       "      <td>...</td>\n",
       "      <td>...</td>\n",
       "    </tr>\n",
       "    <tr>\n",
       "      <th>8336</th>\n",
       "      <td>5760471</td>\n",
       "      <td>B</td>\n",
       "      <td>0.0</td>\n",
       "    </tr>\n",
       "    <tr>\n",
       "      <th>8337</th>\n",
       "      <td>5777081</td>\n",
       "      <td>B</td>\n",
       "      <td>0.0</td>\n",
       "    </tr>\n",
       "    <tr>\n",
       "      <th>8338</th>\n",
       "      <td>5870856</td>\n",
       "      <td>A</td>\n",
       "      <td>0.0</td>\n",
       "    </tr>\n",
       "    <tr>\n",
       "      <th>8339</th>\n",
       "      <td>5945085</td>\n",
       "      <td>B</td>\n",
       "      <td>0.0</td>\n",
       "    </tr>\n",
       "    <tr>\n",
       "      <th>8340</th>\n",
       "      <td>5951797</td>\n",
       "      <td>B</td>\n",
       "      <td>0.0</td>\n",
       "    </tr>\n",
       "  </tbody>\n",
       "</table>\n",
       "<p>8341 rows × 3 columns</p>\n",
       "</div>"
      ],
      "text/plain": [
       "      student_id grp    rev\n",
       "0           1627   A  990.0\n",
       "1           2085   B    0.0\n",
       "2           2215   B    0.0\n",
       "3           3391   A    0.0\n",
       "4           3401   B    0.0\n",
       "...          ...  ..    ...\n",
       "8336     5760471   B    0.0\n",
       "8337     5777081   B    0.0\n",
       "8338     5870856   A    0.0\n",
       "8339     5945085   B    0.0\n",
       "8340     5951797   B    0.0\n",
       "\n",
       "[8341 rows x 3 columns]"
      ]
     },
     "execution_count": 10,
     "metadata": {},
     "output_type": "execute_result"
    }
   ],
   "source": [
    "# Объединяем данные и получаем датафрейм со всеми пользователями, которые были активны в дни проведения эксперимента, а также \n",
    "# датафрейм содержит данные о совершенных оплатах в данный период. Пропущенные значения заменяем на '0'\n",
    "active = all_users.merge(active_studs, on='student_id').merge(checks, how='left', on='student_id')\n",
    "active_users = active.fillna(0)\n",
    "active_users"
   ]
  },
  {
   "cell_type": "code",
   "execution_count": 11,
   "metadata": {},
   "outputs": [],
   "source": [
    "# active_users['cr'] = active_users['rev'].apply(lambda x: True if x>0 else False)\n",
    "# active_users"
   ]
  },
  {
   "cell_type": "code",
   "execution_count": 12,
   "metadata": {},
   "outputs": [
    {
     "name": "stderr",
     "output_type": "stream",
     "text": [
      "/opt/tljh/user/lib/python3.7/site-packages/seaborn/distributions.py:2557: FutureWarning: `distplot` is a deprecated function and will be removed in a future version. Please adapt your code to use either `displot` (a figure-level function with similar flexibility) or `histplot` (an axes-level function for histograms).\n",
      "  warnings.warn(msg, FutureWarning)\n"
     ]
    },
    {
     "data": {
      "text/plain": [
       "<matplotlib.axes._subplots.AxesSubplot at 0x7f3d627b30f0>"
      ]
     },
     "execution_count": 12,
     "metadata": {},
     "output_type": "execute_result"
    },
    {
     "data": {
      "image/png": "[encoded data removed]",
      "text/plain": [
       "<Figure size 432x288 with 1 Axes>"
      ]
     },
     "metadata": {
      "needs_background": "light"
     },
     "output_type": "display_data"
    }
   ],
   "source": [
    "# Построив графики распределения, можно сделать вывод, что распределение признака в обоих группах не соответствует нормальному.\n",
    "# Как в контрольной, так и в экспериментальной группе мы видим довольно большой процент пользователей, не совершивих покупки\n",
    "# в дни проведения эксперимента\n",
    "sns.distplot(active_users[active_users.grp == 'A'].rev, kde=False)\n",
    "sns.distplot(active_users[active_users.grp == 'B'].rev, kde=False)"
   ]
  },
  {
   "cell_type": "markdown",
   "metadata": {},
   "source": [
    "**Начнем сравнение с оценки показателя CR в двух группах**"
   ]
  },
  {
   "cell_type": "code",
   "execution_count": 13,
   "metadata": {},
   "outputs": [
    {
     "data": {
      "text/html": [
       "<div>\n",
       "<style scoped>\n",
       "    .dataframe tbody tr th:only-of-type {\n",
       "        vertical-align: middle;\n",
       "    }\n",
       "\n",
       "    .dataframe tbody tr th {\n",
       "        vertical-align: top;\n",
       "    }\n",
       "\n",
       "    .dataframe thead th {\n",
       "        text-align: right;\n",
       "    }\n",
       "</style>\n",
       "<table border=\"1\" class=\"dataframe\">\n",
       "  <thead>\n",
       "    <tr style=\"text-align: right;\">\n",
       "      <th></th>\n",
       "      <th>grp</th>\n",
       "      <th>total</th>\n",
       "      <th>paying_users</th>\n",
       "      <th>CR</th>\n",
       "    </tr>\n",
       "  </thead>\n",
       "  <tbody>\n",
       "    <tr>\n",
       "      <th>0</th>\n",
       "      <td>A</td>\n",
       "      <td>1538</td>\n",
       "      <td>78</td>\n",
       "      <td>5.07</td>\n",
       "    </tr>\n",
       "    <tr>\n",
       "      <th>1</th>\n",
       "      <td>B</td>\n",
       "      <td>6803</td>\n",
       "      <td>314</td>\n",
       "      <td>4.62</td>\n",
       "    </tr>\n",
       "  </tbody>\n",
       "</table>\n",
       "</div>"
      ],
      "text/plain": [
       "  grp  total  paying_users    CR\n",
       "0   A   1538            78  5.07\n",
       "1   B   6803           314  4.62"
      ]
     },
     "execution_count": 13,
     "metadata": {},
     "output_type": "execute_result"
    }
   ],
   "source": [
    "# Группируем данные по принадлежности к контрольной или экспериментальной группе, считаем CR в каждой группе\n",
    "active_cr = active.groupby('grp',as_index=False).agg({'student_id':'count', 'rev':'count'}).rename(columns={'student_id':'total', 'rev':'paying_users'})\n",
    "active_cr['CR'] = round((active_cr.paying_users/active_cr.total * 100), 2)\n",
    "active_cr"
   ]
  },
  {
   "cell_type": "markdown",
   "metadata": {},
   "source": [
    "Мы видим снижение CR в экспериментальной группе примерно на 0.45%. Чтобы сделать осмысленный вывод, нам необходимо провести статистический тест для определения значимо ли данное различие. В нашем случае можно использовать Хи-квадрат."
   ]
  },
  {
   "cell_type": "code",
   "execution_count": 14,
   "metadata": {},
   "outputs": [
    {
     "data": {
      "text/html": [
       "<div>\n",
       "<style scoped>\n",
       "    .dataframe tbody tr th:only-of-type {\n",
       "        vertical-align: middle;\n",
       "    }\n",
       "\n",
       "    .dataframe tbody tr th {\n",
       "        vertical-align: top;\n",
       "    }\n",
       "\n",
       "    .dataframe thead th {\n",
       "        text-align: right;\n",
       "    }\n",
       "</style>\n",
       "<table border=\"1\" class=\"dataframe\">\n",
       "  <thead>\n",
       "    <tr style=\"text-align: right;\">\n",
       "      <th></th>\n",
       "      <th>paying_users</th>\n",
       "      <th>not_paying</th>\n",
       "    </tr>\n",
       "  </thead>\n",
       "  <tbody>\n",
       "    <tr>\n",
       "      <th>0</th>\n",
       "      <td>78</td>\n",
       "      <td>1460</td>\n",
       "    </tr>\n",
       "    <tr>\n",
       "      <th>1</th>\n",
       "      <td>314</td>\n",
       "      <td>6489</td>\n",
       "    </tr>\n",
       "  </tbody>\n",
       "</table>\n",
       "</div>"
      ],
      "text/plain": [
       "   paying_users  not_paying\n",
       "0            78        1460\n",
       "1           314        6489"
      ]
     },
     "execution_count": 14,
     "metadata": {},
     "output_type": "execute_result"
    }
   ],
   "source": [
    "active_cr['not_paying'] = active_cr.total - active_cr.paying_users\n",
    "data_for_test = active_cr[['paying_users', 'not_paying']]\n",
    "data_for_test"
   ]
  },
  {
   "cell_type": "code",
   "execution_count": 15,
   "metadata": {},
   "outputs": [
    {
     "name": "stdout",
     "output_type": "stream",
     "text": [
      "chi2_statistic=0.485, p-value=0.486, df=1, expected_frep=[[  72.28102146 1465.71897854]\n",
      " [ 319.71897854 6483.28102146]]\n"
     ]
    }
   ],
   "source": [
    "data = data_for_test\n",
    "chi2 = stats.chi2_contingency(data)\n",
    "print('chi2_statistic=%.3f, p-value=%.3f, df=%i, expected_frep=%s'%chi2)"
   ]
  },
  {
   "cell_type": "markdown",
   "metadata": {},
   "source": [
    "Согласно результатам, мы получили p-value = 0.486, это превышает уровень ɑ = 0.05, что позволяет нам сделать вывод о том, что статистически значимых различий нет и принять нулевую гипотезу."
   ]
  },
  {
   "cell_type": "markdown",
   "metadata": {},
   "source": [
    "**Следующая метрика для сравнения это ARPU за период проведения экспримента** "
   ]
  },
  {
   "cell_type": "code",
   "execution_count": 16,
   "metadata": {},
   "outputs": [
    {
     "data": {
      "text/html": [
       "<div>\n",
       "<style scoped>\n",
       "    .dataframe tbody tr th:only-of-type {\n",
       "        vertical-align: middle;\n",
       "    }\n",
       "\n",
       "    .dataframe tbody tr th {\n",
       "        vertical-align: top;\n",
       "    }\n",
       "\n",
       "    .dataframe thead th {\n",
       "        text-align: right;\n",
       "    }\n",
       "</style>\n",
       "<table border=\"1\" class=\"dataframe\">\n",
       "  <thead>\n",
       "    <tr style=\"text-align: right;\">\n",
       "      <th></th>\n",
       "      <th>grp</th>\n",
       "      <th>quantity</th>\n",
       "      <th>ARPU</th>\n",
       "    </tr>\n",
       "  </thead>\n",
       "  <tbody>\n",
       "    <tr>\n",
       "      <th>0</th>\n",
       "      <td>A</td>\n",
       "      <td>1538</td>\n",
       "      <td>47.347204</td>\n",
       "    </tr>\n",
       "    <tr>\n",
       "      <th>1</th>\n",
       "      <td>B</td>\n",
       "      <td>6803</td>\n",
       "      <td>58.058798</td>\n",
       "    </tr>\n",
       "  </tbody>\n",
       "</table>\n",
       "</div>"
      ],
      "text/plain": [
       "  grp  quantity       ARPU\n",
       "0   A      1538  47.347204\n",
       "1   B      6803  58.058798"
      ]
     },
     "execution_count": 16,
     "metadata": {},
     "output_type": "execute_result"
    }
   ],
   "source": [
    "arpu = active_users.groupby('grp', as_index=False).agg({'student_id':'count', 'rev':'mean'}).rename(columns={'student_id':'quantity', 'rev':'ARPU'})\n",
    "arpu"
   ]
  },
  {
   "cell_type": "markdown",
   "metadata": {},
   "source": [
    "В случае с ненормальным распределением внутри выборок, наиболее подходящим для сравнения средних в группах будет Bootstrap. Также в нашем случае мы имеем сильно различающиеся по количеству наблюдений группы"
   ]
  },
  {
   "cell_type": "code",
   "execution_count": 17,
   "metadata": {},
   "outputs": [],
   "source": [
    "# Функция для проведения Bootstrap\n",
    "def get_bootstrap(data_column_1, data_column_2, boot_it, statistic, bootstrap_conf_level):\n",
    "    boot_len = max([len(data_column_1), len(data_column_2)])\n",
    "    boot_data = []\n",
    "    for i in tqdm(range(boot_it)): \n",
    "        samples_1 = data_column_1.sample(\n",
    "            boot_len, \n",
    "            replace = True \n",
    "        ).values\n",
    "        \n",
    "        samples_2 = data_column_2.sample(\n",
    "            boot_len, \n",
    "            replace = True\n",
    "        ).values\n",
    "        \n",
    "        boot_data.append(statistic(samples_1-samples_2)) \n",
    "        \n",
    "    pd_boot_data = pd.DataFrame(boot_data)\n",
    "        \n",
    "    left_quant = (1 - bootstrap_conf_level)/2\n",
    "    right_quant = 1 - (1 - bootstrap_conf_level) / 2\n",
    "    ci = pd_boot_data.quantile([left_quant, right_quant])\n",
    "        \n",
    "    p_1 = norm.cdf(\n",
    "        x = 0, \n",
    "        loc = np.mean(boot_data), \n",
    "        scale = np.std(boot_data)\n",
    "    )\n",
    "    p_2 = norm.cdf(\n",
    "        x = 0, \n",
    "        loc = -np.mean(boot_data), \n",
    "        scale = np.std(boot_data)\n",
    "    )\n",
    "    p_value = min(p_1, p_2) * 2\n",
    "    \n",
    "    plt.hist(pd_boot_data[0], bins = 50)\n",
    "    \n",
    "    plt.style.use('ggplot')\n",
    "    plt.vlines(ci,ymin=0,ymax=50,linestyle='--')\n",
    "    plt.xlabel('boot_data')\n",
    "    plt.ylabel('frequency')\n",
    "    plt.title(\"Histogram of boot_data\")\n",
    "    plt.show()\n",
    "       \n",
    "    return {\"boot_data\": boot_data, \n",
    "            \"ci\": ci, \n",
    "            \"p_value\": p_value}"
   ]
  },
  {
   "cell_type": "code",
   "execution_count": 19,
   "metadata": {},
   "outputs": [
    {
     "data": {
      "application/vnd.jupyter.widget-view+json": {
       "model_id": "ea51a27699774c979ecb1d0fc8d55b2e",
       "version_major": 2,
       "version_minor": 0
      },
      "text/plain": [
       "HBox(children=(FloatProgress(value=0.0, max=1000.0), HTML(value='')))"
      ]
     },
     "metadata": {},
     "output_type": "display_data"
    },
    {
     "name": "stdout",
     "output_type": "stream",
     "text": [
      "\n"
     ]
    },
    {
     "data": {
      "image/png": "[encoded data removed]",
      "text/plain": [
       "<Figure size 432x288 with 1 Axes>"
      ]
     },
     "metadata": {},
     "output_type": "display_data"
    },
    {
     "name": "stdout",
     "output_type": "stream",
     "text": [
      "p-value = 0.034043685747618006\n"
     ]
    },
    {
     "data": {
      "text/html": [
       "<div>\n",
       "<style scoped>\n",
       "    .dataframe tbody tr th:only-of-type {\n",
       "        vertical-align: middle;\n",
       "    }\n",
       "\n",
       "    .dataframe tbody tr th {\n",
       "        vertical-align: top;\n",
       "    }\n",
       "\n",
       "    .dataframe thead th {\n",
       "        text-align: right;\n",
       "    }\n",
       "</style>\n",
       "<table border=\"1\" class=\"dataframe\">\n",
       "  <thead>\n",
       "    <tr style=\"text-align: right;\">\n",
       "      <th></th>\n",
       "      <th>0</th>\n",
       "    </tr>\n",
       "  </thead>\n",
       "  <tbody>\n",
       "    <tr>\n",
       "      <th>0.025</th>\n",
       "      <td>-20.177301</td>\n",
       "    </tr>\n",
       "    <tr>\n",
       "      <th>0.975</th>\n",
       "      <td>-0.543033</td>\n",
       "    </tr>\n",
       "  </tbody>\n",
       "</table>\n",
       "</div>"
      ],
      "text/plain": [
       "               0\n",
       "0.025 -20.177301\n",
       "0.975  -0.543033"
      ]
     },
     "execution_count": 19,
     "metadata": {},
     "output_type": "execute_result"
    }
   ],
   "source": [
    "booted_data = get_bootstrap(active_users[active_users.grp == 'A'].rev, \n",
    "                              active_users[active_users.grp == 'B'].rev,\n",
    "                              boot_it = 1000, \n",
    "                              statistic = np.mean, \n",
    "                              bootstrap_conf_level = 0.95)\n",
    "print('p-value =', booted_data[\"p_value\"])\n",
    "booted_data[\"ci\"]"
   ]
  },
  {
   "cell_type": "code",
   "execution_count": 20,
   "metadata": {},
   "outputs": [
    {
     "data": {
      "application/vnd.jupyter.widget-view+json": {
       "model_id": "f48581105118447daffc307146804340",
       "version_major": 2,
       "version_minor": 0
      },
      "text/plain": [
       "HBox(children=(FloatProgress(value=0.0, max=10000.0), HTML(value='')))"
      ]
     },
     "metadata": {},
     "output_type": "display_data"
    },
    {
     "name": "stdout",
     "output_type": "stream",
     "text": [
      "\n"
     ]
    },
    {
     "data": {
      "image/png": "[encoded data removed]",
      "text/plain": [
       "<Figure size 432x288 with 1 Axes>"
      ]
     },
     "metadata": {},
     "output_type": "display_data"
    },
    {
     "name": "stdout",
     "output_type": "stream",
     "text": [
      "p-value = 0.04137727682349796\n"
     ]
    },
    {
     "data": {
      "text/html": [
       "<div>\n",
       "<style scoped>\n",
       "    .dataframe tbody tr th:only-of-type {\n",
       "        vertical-align: middle;\n",
       "    }\n",
       "\n",
       "    .dataframe tbody tr th {\n",
       "        vertical-align: top;\n",
       "    }\n",
       "\n",
       "    .dataframe thead th {\n",
       "        text-align: right;\n",
       "    }\n",
       "</style>\n",
       "<table border=\"1\" class=\"dataframe\">\n",
       "  <thead>\n",
       "    <tr style=\"text-align: right;\">\n",
       "      <th></th>\n",
       "      <th>0</th>\n",
       "    </tr>\n",
       "  </thead>\n",
       "  <tbody>\n",
       "    <tr>\n",
       "      <th>0.025</th>\n",
       "      <td>-20.909904</td>\n",
       "    </tr>\n",
       "    <tr>\n",
       "      <th>0.975</th>\n",
       "      <td>-0.526404</td>\n",
       "    </tr>\n",
       "  </tbody>\n",
       "</table>\n",
       "</div>"
      ],
      "text/plain": [
       "               0\n",
       "0.025 -20.909904\n",
       "0.975  -0.526404"
      ]
     },
     "execution_count": 20,
     "metadata": {},
     "output_type": "execute_result"
    }
   ],
   "source": [
    "booted_data = get_bootstrap(active_users[active_users.grp == 'A'].rev, \n",
    "                              active_users[active_users.grp == 'B'].rev,\n",
    "                              boot_it = 10000, \n",
    "                              statistic = np.mean, \n",
    "                              bootstrap_conf_level = 0.95)\n",
    "print('p-value =', booted_data[\"p_value\"])\n",
    "booted_data[\"ci\"]"
   ]
  },
  {
   "cell_type": "markdown",
   "metadata": {},
   "source": [
    "В данном случае, на разных по размеру выборках мы получаем p-value < 0.05 (0.03 и 0.04), границы доверительного интервала расположены слева от нуля, что также свидетельствует о значимых различиях. Это позволяет нам отклонить нулевую гипотезу и принять альтернативную. Средние значения в экспериментальной группе статистически значимо выше."
   ]
  },
  {
   "cell_type": "markdown",
   "metadata": {},
   "source": [
    "**И последняя метрика это ARPPU**"
   ]
  },
  {
   "cell_type": "code",
   "execution_count": 21,
   "metadata": {},
   "outputs": [],
   "source": [
    "arppu = all_users.merge(active_studs, on='student_id').merge(checks, on='student_id')"
   ]
  },
  {
   "cell_type": "code",
   "execution_count": 22,
   "metadata": {},
   "outputs": [
    {
     "data": {
      "text/html": [
       "<div>\n",
       "<style scoped>\n",
       "    .dataframe tbody tr th:only-of-type {\n",
       "        vertical-align: middle;\n",
       "    }\n",
       "\n",
       "    .dataframe tbody tr th {\n",
       "        vertical-align: top;\n",
       "    }\n",
       "\n",
       "    .dataframe thead th {\n",
       "        text-align: right;\n",
       "    }\n",
       "</style>\n",
       "<table border=\"1\" class=\"dataframe\">\n",
       "  <thead>\n",
       "    <tr style=\"text-align: right;\">\n",
       "      <th></th>\n",
       "      <th>grp</th>\n",
       "      <th>quantity</th>\n",
       "      <th>arppu</th>\n",
       "    </tr>\n",
       "  </thead>\n",
       "  <tbody>\n",
       "    <tr>\n",
       "      <th>0</th>\n",
       "      <td>A</td>\n",
       "      <td>78</td>\n",
       "      <td>933.589744</td>\n",
       "    </tr>\n",
       "    <tr>\n",
       "      <th>1</th>\n",
       "      <td>B</td>\n",
       "      <td>314</td>\n",
       "      <td>1257.878992</td>\n",
       "    </tr>\n",
       "  </tbody>\n",
       "</table>\n",
       "</div>"
      ],
      "text/plain": [
       "  grp  quantity        arppu\n",
       "0   A        78   933.589744\n",
       "1   B       314  1257.878992"
      ]
     },
     "execution_count": 22,
     "metadata": {},
     "output_type": "execute_result"
    }
   ],
   "source": [
    "arppu.groupby('grp', as_index=False).agg({'student_id':'count', 'rev':'mean'}).rename(columns={'student_id':'quantity', 'rev':'arppu'})"
   ]
  },
  {
   "cell_type": "markdown",
   "metadata": {},
   "source": [
    "В случае с ARPPU сразу можно заметить довольно большие различия. Здесь также применяем Bootstrap на выборках разного размера"
   ]
  },
  {
   "cell_type": "code",
   "execution_count": 24,
   "metadata": {},
   "outputs": [
    {
     "data": {
      "application/vnd.jupyter.widget-view+json": {
       "model_id": "d4f82f84ded34f03984d39d0c103d3cb",
       "version_major": 2,
       "version_minor": 0
      },
      "text/plain": [
       "HBox(children=(FloatProgress(value=0.0, max=1000.0), HTML(value='')))"
      ]
     },
     "metadata": {},
     "output_type": "display_data"
    },
    {
     "name": "stdout",
     "output_type": "stream",
     "text": [
      "\n"
     ]
    },
    {
     "data": {
      "image/png": "[encoded data removed]",
      "text/plain": [
       "<Figure size 432x288 with 1 Axes>"
      ]
     },
     "metadata": {},
     "output_type": "display_data"
    },
    {
     "name": "stdout",
     "output_type": "stream",
     "text": [
      "p-value = 0.0000019\n"
     ]
    },
    {
     "data": {
      "text/html": [
       "<div>\n",
       "<style scoped>\n",
       "    .dataframe tbody tr th:only-of-type {\n",
       "        vertical-align: middle;\n",
       "    }\n",
       "\n",
       "    .dataframe tbody tr th {\n",
       "        vertical-align: top;\n",
       "    }\n",
       "\n",
       "    .dataframe thead th {\n",
       "        text-align: right;\n",
       "    }\n",
       "</style>\n",
       "<table border=\"1\" class=\"dataframe\">\n",
       "  <thead>\n",
       "    <tr style=\"text-align: right;\">\n",
       "      <th></th>\n",
       "      <th>0</th>\n",
       "    </tr>\n",
       "  </thead>\n",
       "  <tbody>\n",
       "    <tr>\n",
       "      <th>0.025</th>\n",
       "      <td>-462.298264</td>\n",
       "    </tr>\n",
       "    <tr>\n",
       "      <th>0.975</th>\n",
       "      <td>-190.440773</td>\n",
       "    </tr>\n",
       "  </tbody>\n",
       "</table>\n",
       "</div>"
      ],
      "text/plain": [
       "                0\n",
       "0.025 -462.298264\n",
       "0.975 -190.440773"
      ]
     },
     "execution_count": 24,
     "metadata": {},
     "output_type": "execute_result"
    }
   ],
   "source": [
    "booted_data = get_bootstrap(arppu[arppu.grp == 'A'].rev, \n",
    "                              arppu[arppu.grp == 'B'].rev,\n",
    "                              boot_it = 1000, \n",
    "                              statistic = np.mean, \n",
    "                              bootstrap_conf_level = 0.95)\n",
    "print('p-value =', str(decimal.Decimal(booted_data[\"p_value\"]))[:9])\n",
    "booted_data[\"ci\"]"
   ]
  },
  {
   "cell_type": "code",
   "execution_count": 25,
   "metadata": {
    "scrolled": false
   },
   "outputs": [
    {
     "data": {
      "application/vnd.jupyter.widget-view+json": {
       "model_id": "1f17be392b3f41989ef62175eaf65281",
       "version_major": 2,
       "version_minor": 0
      },
      "text/plain": [
       "HBox(children=(FloatProgress(value=0.0, max=10000.0), HTML(value='')))"
      ]
     },
     "metadata": {},
     "output_type": "display_data"
    },
    {
     "name": "stdout",
     "output_type": "stream",
     "text": [
      "\n"
     ]
    },
    {
     "data": {
      "image/png": "[encoded data removed]",
      "text/plain": [
       "<Figure size 432x288 with 1 Axes>"
      ]
     },
     "metadata": {},
     "output_type": "display_data"
    },
    {
     "name": "stdout",
     "output_type": "stream",
     "text": [
      "p-value = 0.0000017\n"
     ]
    },
    {
     "data": {
      "text/html": [
       "<div>\n",
       "<style scoped>\n",
       "    .dataframe tbody tr th:only-of-type {\n",
       "        vertical-align: middle;\n",
       "    }\n",
       "\n",
       "    .dataframe tbody tr th {\n",
       "        vertical-align: top;\n",
       "    }\n",
       "\n",
       "    .dataframe thead th {\n",
       "        text-align: right;\n",
       "    }\n",
       "</style>\n",
       "<table border=\"1\" class=\"dataframe\">\n",
       "  <thead>\n",
       "    <tr style=\"text-align: right;\">\n",
       "      <th></th>\n",
       "      <th>0</th>\n",
       "    </tr>\n",
       "  </thead>\n",
       "  <tbody>\n",
       "    <tr>\n",
       "      <th>0.025</th>\n",
       "      <td>-458.017527</td>\n",
       "    </tr>\n",
       "    <tr>\n",
       "      <th>0.975</th>\n",
       "      <td>-190.670550</td>\n",
       "    </tr>\n",
       "  </tbody>\n",
       "</table>\n",
       "</div>"
      ],
      "text/plain": [
       "                0\n",
       "0.025 -458.017527\n",
       "0.975 -190.670550"
      ]
     },
     "execution_count": 25,
     "metadata": {},
     "output_type": "execute_result"
    }
   ],
   "source": [
    "booted_data = get_bootstrap(arppu[arppu.grp == 'A'].rev, \n",
    "                              arppu[arppu.grp == 'B'].rev,\n",
    "                              boot_it = 10000, \n",
    "                              statistic = np.mean, \n",
    "                              bootstrap_conf_level = 0.95)\n",
    "print('p-value =', str(decimal.Decimal(booted_data[\"p_value\"]))[:9])\n",
    "booted_data[\"ci\"]"
   ]
  },
  {
   "cell_type": "markdown",
   "metadata": {},
   "source": [
    "p-value на выборках разного размера равно 0.0000019 и 0.0000017, что гораздо меньше ɑ = 0.05, это позволяет нам принять альтернативную гипотезу о разнице средних в исследуемых группах"
   ]
  },
  {
   "cell_type": "markdown",
   "metadata": {},
   "source": [
    "## Вывод:"
   ]
  },
  {
   "cell_type": "markdown",
   "metadata": {},
   "source": [
    "Проверив 3 различные гипотезы можно сделать следующие выводы. Мы можем принять решение о запуске новой механики оплаты исходя из гипотезы, которая была выдвинута перед проведением эксперимента:\n",
    "- Если нашей целью было увеличение конверсии в покупку, и возможной гипотезой было предположение о том, что новая механика оплаты увеличит конверсию в покупку, то исходя из результатов эксперимента, мы отклонили гипотезу о статистически значимых различиях в исследуемых группах. Соответственно, в этом случае, нам не стоит применять новую механику на всех пользователей.\n",
    "\n",
    "- Если целью было увеличение ARPU, и гипотеза заключалась в том, что новая механика оплаты увеличит среднюю выручку, то эта гипотеза была потдверждена. И мы можем рассмотреть возможность применения новой механики оплаты на всех пользователей. \n",
    "\n",
    "- Самая большая разница средних значений наблюдалась в случае с метрикой ARPPU. Что подтвержает гипотезу о том, что изменение приведет к повышению ARPPU. И в это случае мы также можем рассмотреть возможность введения новой механики оплаты.\n",
    "\n",
    "Интересно то, что новая механика оплаты не повлияла на конверсию, но увеличила выручку с одного пользователя. Можно предположить, что старая механика оплаты не была сдерживающим фактором при решении совершить покупку, и для увеличения конверсии необходимо искать какие-то другие решения.\n"
   ]
  },
  {
   "cell_type": "markdown",
   "metadata": {},
   "source": [
    "---"
   ]
  },
  {
   "cell_type": "markdown",
   "metadata": {},
   "source": [
    "## Задание 2. SQL"
   ]
  },
  {
   "cell_type": "markdown",
   "metadata": {},
   "source": [
    "### 2.1 Очень усердные ученики"
   ]
  },
  {
   "cell_type": "markdown",
   "metadata": {},
   "source": [
    "Необходимо написать оптимальный запрос, который даст информацию о количестве очень усердных студентов за март 2020 года."
   ]
  },
  {
   "cell_type": "code",
   "execution_count": 26,
   "metadata": {},
   "outputs": [],
   "source": [
    "# SELECT\n",
    "#     month,\n",
    "#     COUNT(st_id) AS number_of_students\n",
    "# FROM \n",
    "#     (SELECT\n",
    "#         st_id,\n",
    "#         date_trunc('month', timest) AS month,\n",
    "#         date_trunc('hour', timest) AS hour,\n",
    "#         COUNT(correct) AS count_correct\n",
    "#     FROM peas\n",
    "#     WHERE correct = '1'\n",
    "#     GROUP BY st_id, month, hour\n",
    "#     ) AS sq\n",
    "# WHERE count_correct >= 20 AND month = '03/01/20 00:00'\n",
    "# GROUP BY month"
   ]
  },
  {
   "cell_type": "markdown",
   "metadata": {},
   "source": [
    "### 2.2 Оптимизация воронки"
   ]
  },
  {
   "cell_type": "markdown",
   "metadata": {},
   "source": [
    "Необходимо в одном запросе выгрузить следующую информацию о группах пользователей:\n",
    "- ARPU \n",
    "- ARPAU \n",
    "- CR в покупку \n",
    "- СR активного пользователя в покупку \n",
    "- CR пользователя из активности по математике (subject = ’math’) в покупку курса по математике"
   ]
  },
  {
   "cell_type": "code",
   "execution_count": 27,
   "metadata": {},
   "outputs": [],
   "source": [
    "# SELECT \n",
    "#     test_grp,\n",
    "#     SUM(money)/COUNT(DISTINCT st_id) AS ARPU,\n",
    "#     SUM(money)/COUNT(DISTINCT active) AS ARPAU,\n",
    "#     COUNT(DISTINCT sale_time)/COUNT(DISTINCT st_id) AS CR,\n",
    "#     COUNT(DISTINCT sale_time)/COUNT(DISTINCT active) AS CR_active,\n",
    "#     COUNT(DISTINCT pay_math)/COUNT(DISTINCT trial_math) AS CR_math\n",
    "# FROM    \n",
    "#     (\n",
    "#     SELECT \n",
    "#         a.st_id AS st_id,\n",
    "#         a.timest AS timest,\n",
    "#         a.subject AS subject_trial,\n",
    "#         b.test_grp AS test_grp,\n",
    "#         c.sale_time AS sale_time,\n",
    "#         c.money AS money,\n",
    "#         (SELECT COUNT(DISTINCT st_id) FROM peas WHERE correct IS NOT NULL) AS active,\n",
    "#         (SELECT COUNT(DISTINCT st_id) FROM peas WHERE subject = 'math') AS trial_math,\n",
    "#         (SELECT COUNT(DISTINCT sale_time) FROM checks WHERE subject = 'math') AS pay_math\n",
    "#     FROM peas AS a\n",
    "#         LEFT JOIN studs AS b \n",
    "#             ON a.st_id = b.st_id\n",
    "#         LEFT JOIN checks AS c \n",
    "#             ON a.st_id = c.st_id AND a.subject = c.subject\n",
    "#     ) AS sq1\n",
    "# GROUP BY test_grp"
   ]
  },
  {
   "cell_type": "markdown",
   "metadata": {},
   "source": [
    "---"
   ]
  },
  {
   "cell_type": "markdown",
   "metadata": {},
   "source": [
    "### Задание 3. Python"
   ]
  },
  {
   "cell_type": "markdown",
   "metadata": {},
   "source": [
    "- **Реализуйте функцию, которая будет автоматически подгружать информацию из дополнительного файла groups_add.csv (заголовки могут отличаться) и на основании дополнительных параметров пересчитывать метрики**"
   ]
  },
  {
   "cell_type": "code",
   "execution_count": 28,
   "metadata": {},
   "outputs": [],
   "source": [
    "def add_new_data(groups, group_add, active_studs, checks):\n",
    "    # Объединяем таблицы\n",
    "    all_users = pd.concat([groups, group_add], ignore_index=True).rename(columns={'id':'student_id'})\n",
    "    active_users = all_users.merge(active_studs, on='student_id').merge(checks, how='left', on='student_id')\n",
    "    # Меняем пропущенные знаяения на 0\n",
    "    active = active_users.fillna(0)\n",
    "    # Считаем CR в группах\n",
    "    cr = active_users.groupby('grp').agg({'student_id':'count', 'rev':'count'}).rename(columns={'student_id':'total', 'rev':'paying_users'})\n",
    "    cr['CR'] = round((cr.paying_users/cr.total * 100), 2)\n",
    "    # Считаем ARPU в группах\n",
    "    arpu = active.groupby('grp', as_index=False).agg({'student_id':'count', 'rev':'mean'}).rename(columns={'student_id':'quantity', 'rev':'ARPU'})\n",
    "    # Считаем ARPPU в группах\n",
    "    arppu = all_users.merge(active_studs, on='student_id').merge(checks, on='student_id')\n",
    "    arppu = arppu.groupby('grp', as_index=False).agg({'student_id':'count', 'rev':'mean'}).rename(columns={'student_id':'quantity', 'rev':'ARPPU'})\n",
    "    # Объединяем все метрики в одну таблицу\n",
    "    all_metrics = cr.merge(arpu, on='grp').merge(arppu, on='grp')\n",
    "    all_metrics = all_metrics[['grp', 'total', 'paying_users', 'CR', 'ARPU', 'ARPPU']]\n",
    "    \n",
    "    return all_metrics"
   ]
  },
  {
   "cell_type": "code",
   "execution_count": 29,
   "metadata": {},
   "outputs": [
    {
     "data": {
      "text/html": [
       "<div>\n",
       "<style scoped>\n",
       "    .dataframe tbody tr th:only-of-type {\n",
       "        vertical-align: middle;\n",
       "    }\n",
       "\n",
       "    .dataframe tbody tr th {\n",
       "        vertical-align: top;\n",
       "    }\n",
       "\n",
       "    .dataframe thead th {\n",
       "        text-align: right;\n",
       "    }\n",
       "</style>\n",
       "<table border=\"1\" class=\"dataframe\">\n",
       "  <thead>\n",
       "    <tr style=\"text-align: right;\">\n",
       "      <th></th>\n",
       "      <th>grp</th>\n",
       "      <th>total</th>\n",
       "      <th>paying_users</th>\n",
       "      <th>CR</th>\n",
       "      <th>ARPU</th>\n",
       "      <th>ARPPU</th>\n",
       "    </tr>\n",
       "  </thead>\n",
       "  <tbody>\n",
       "    <tr>\n",
       "      <th>0</th>\n",
       "      <td>A</td>\n",
       "      <td>1538</td>\n",
       "      <td>78</td>\n",
       "      <td>5.07</td>\n",
       "      <td>47.347204</td>\n",
       "      <td>933.589744</td>\n",
       "    </tr>\n",
       "    <tr>\n",
       "      <th>1</th>\n",
       "      <td>B</td>\n",
       "      <td>6803</td>\n",
       "      <td>314</td>\n",
       "      <td>4.62</td>\n",
       "      <td>58.058798</td>\n",
       "      <td>1257.878992</td>\n",
       "    </tr>\n",
       "  </tbody>\n",
       "</table>\n",
       "</div>"
      ],
      "text/plain": [
       "  grp  total  paying_users    CR       ARPU        ARPPU\n",
       "0   A   1538            78  5.07  47.347204   933.589744\n",
       "1   B   6803           314  4.62  58.058798  1257.878992"
      ]
     },
     "execution_count": 29,
     "metadata": {},
     "output_type": "execute_result"
    }
   ],
   "source": [
    "add_new_data(groups, group_add, active_studs, checks)"
   ]
  },
  {
   "cell_type": "markdown",
   "metadata": {},
   "source": [
    "- **Реализуйте функцию, которая будет строить графики по получаемым метрикам**"
   ]
  },
  {
   "cell_type": "code",
   "execution_count": 30,
   "metadata": {},
   "outputs": [],
   "source": [
    "def build_a_graph(df1, df2, df3):\n",
    "    sns.set(rc={'figure.figsize':(7,4)})\n",
    "    sns.barplot(x=\"grp\", y='CR', data=df1)\n",
    "    plt.title (\"CR\")\n",
    "    plt.xlabel('Group')\n",
    "    plt.ylabel('CR, %')\n",
    "    plt.show()\n",
    "    \n",
    "    sns.boxplot(x=\"grp\", y=\"rev\", data=df2)\n",
    "    plt.title (\"ARPU\")\n",
    "    plt.xlabel('Group')\n",
    "    plt.ylabel('Revenue')\n",
    "    plt.show()\n",
    "    \n",
    "    sns.boxplot(x=\"grp\", y=\"rev\", data=df3)\n",
    "    plt.xlabel('Group')\n",
    "    plt.ylabel('Revenue')\n",
    "    plt.title (\"ARPPU\")\n",
    "    plt.show()"
   ]
  },
  {
   "cell_type": "code",
   "execution_count": 31,
   "metadata": {},
   "outputs": [
    {
     "data": {
      "image/png": "[encoded data removed]",
      "text/plain": [
       "<Figure size 504x288 with 1 Axes>"
      ]
     },
     "metadata": {},
     "output_type": "display_data"
    },
    {
     "data": {
      "image/png": "[encoded data removed]",
      "text/plain": [
       "<Figure size 504x288 with 1 Axes>"
      ]
     },
     "metadata": {},
     "output_type": "display_data"
    },
    {
     "data": {
      "image/png": "[encoded data removed]",
      "text/plain": [
       "<Figure size 504x288 with 1 Axes>"
      ]
     },
     "metadata": {},
     "output_type": "display_data"
    }
   ],
   "source": [
    "build_a_graph(active_cr, active_users, active)"
   ]
  }
 ],
 "metadata": {
  "kernelspec": {
   "display_name": "Python 3",
   "language": "python",
   "name": "python3"
  },
  "language_info": {
   "codemirror_mode": {
    "name": "ipython",
    "version": 3
   },
   "file_extension": ".py",
   "mimetype": "text/x-python",
   "name": "python",
   "nbconvert_exporter": "python",
   "pygments_lexer": "ipython3",
   "version": "3.9.5"
  }
 },
 "nbformat": 4,
 "nbformat_minor": 4
}
